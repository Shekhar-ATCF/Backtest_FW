{
 "cells": [
  {
   "cell_type": "markdown",
   "metadata": {},
   "source": [
    "### Importing standard python libraries"
   ]
  },
  {
   "cell_type": "code",
   "execution_count": 6,
   "metadata": {},
   "outputs": [],
   "source": [
    "import numpy as np\n",
    "import pandas as pd\n",
    "import matplotlib\n",
    "import sklearn\n",
    "import talib"
   ]
  },
  {
   "cell_type": "markdown",
   "metadata": {},
   "source": [
    "### Defining API constants"
   ]
  },
  {
   "cell_type": "code",
   "execution_count": null,
   "metadata": {},
   "outputs": [],
   "source": [
    "api_key = 'FQfQFPV4kvqicyrTrUDR'"
   ]
  },
  {
   "cell_type": "code",
   "execution_count": null,
   "metadata": {},
   "outputs": [],
   "source": []
  },
  {
   "cell_type": "markdown",
   "metadata": {},
   "source": [
    "### Defining Constants"
   ]
  },
  {
   "cell_type": "code",
   "execution_count": 1,
   "metadata": {},
   "outputs": [],
   "source": [
    "## Importing required libraries\n",
    "import logging\n",
    "from enum import Enum"
   ]
  },
  {
   "cell_type": "markdown",
   "metadata": {},
   "source": [
    "##### Defining classes to customize characteristics of ChartElement object"
   ]
  },
  {
   "cell_type": "code",
   "execution_count": 14,
   "metadata": {},
   "outputs": [],
   "source": [
    "## Defining class for type of chart in the ChartElement object\n",
    "class ChartType(Enum):\n",
    "    CANDLESTICK = 'candlestick'\n",
    "    LINE = 'line'\n",
    "    COLUMN = 'column'\n",
    "    JUMPLINE = 'jumpLine'\n",
    "    \n",
    "    def __str__(self):\n",
    "        return self.value\n",
    "\n",
    "\n",
    "## Defining class for chart axis in the ChartElement object\n",
    "class ChartAxis(Enum):\n",
    "    SAME_AXIS = 0\n",
    "    DIFFERENT_AXIS = 1\n",
    "    \n",
    "    def __str__(self):\n",
    "        return self.value\n",
    "\n",
    "\n",
    "## Defining class for chart color in the ChartElement object\n",
    "class ChartColor(Enum):\n",
    "    RED = 'RED'\n",
    "    BLUE = 'BLUE'\n",
    "    GREEN = 'GREEN'\n",
    "    YELLOW = 'YELLOW'\n",
    "    PINK = 'PINK'\n",
    "    PURPLE = 'PURPLE'\n",
    "    TEAL = 'TEAL'\n",
    "    \n",
    "    def __str__(self):\n",
    "        return self.value\n",
    "\n",
    "\n",
    "## Defining class for chart patterns, as described in TA-Lib, for the ChartElement object\n",
    "class Pattern(Enum):\n",
    "    two_crows = 'CDL2CROWS'\n",
    "    three_black_crows = 'CDL3BLACKCROWS'\n",
    "    three_inside_ = 'CDL3INSIDE'\n",
    "    three_line_strike = 'CDL3LINESTRIKE'\n",
    "    three_outside = 'CDL3OUTSIDE'\n",
    "    three_stars_in_the_south = 'CDL3STARSINSOUTH'\n",
    "    three_advancing_white_soldiers = 'CDL3WHITESOLDIERS'\n",
    "    abandoned_baby = 'CDLABANDONEDBABY'\n",
    "    advance_block = 'CDLADVANCEBLOCK'\n",
    "    belt_hold = 'CDLBELTHOLD'\n",
    "    breakaway = 'CDLBREAKAWAY'\n",
    "    closing_marubozu = 'CDLCLOSINGMARUBOZU'\n",
    "    concealing_baby_swallow = 'CDLCONCEALBABYSWALL'\n",
    "    counterattack = 'CDLCOUNTERATTACK'\n",
    "    dark_cloud_cover = 'CDLDARKCLOUDCOVER'\n",
    "    doji = 'CDLDOJI'\n",
    "    doji_star = 'CDLDOJISTAR'\n",
    "    dragonfly_doji = 'CDLDRAGONFLYDOJI'\n",
    "    engulfing_pattern = 'CDLENGULFING'\n",
    "    evening_doji_star = 'CDLEVENINGDOJISTAR'\n",
    "    evening_star = 'CDLEVENINGSTAR'\n",
    "    gap_side_white_lines = 'CDLGAPSIDESIDEWHITE'\n",
    "    gravestone_doji = 'CDLGRAVESTONEDOJI'\n",
    "    hammer = 'CDLHAMMER'\n",
    "    hanging_man = 'CDLHANGINGMAN'\n",
    "    harami_pattern = 'CDLHARAMI'\n",
    "    harami_cross_pattern = 'CDLHARAMICROSS'\n",
    "    high_wave_candle = 'CDLHIGHWAVE'\n",
    "    hikkake_pattern = 'CDLHIKKAKE'\n",
    "    modified_hikkake_pattern = 'CDLHIKKAKEMOD'\n",
    "    homing_pigeon = 'CDLHOMINGPIGEON'\n",
    "    identical_three_crows = 'CDLIDENTICAL3CROWS'\n",
    "    in_neck_pattern = 'CDLINNECK'\n",
    "    inverted_hammer = 'CDLINVERTEDHAMMER'\n",
    "    kicking = 'CDLKICKING'\n",
    "    kicking_length = 'CDLKICKINGBYLENGTH'\n",
    "    ladder_bottom = 'CDLLADDERBOTTOM'\n",
    "    long_legged_doji = 'CDLLONGLEGGEDDOJI'\n",
    "    long_line_candle = 'CDLLONGLINE'\n",
    "    marubozu = 'CDLMARUBOZU'\n",
    "    matching_low = 'CDLMATCHINGLOW'\n",
    "    mat_hold = 'CDLMATHOLD'\n",
    "    morning_doji_star = 'CDLMORNINGDOJISTAR'\n",
    "    morning_star = 'CDLMORNINGSTAR'\n",
    "    on_neck_pattern = 'CDLONNECK'\n",
    "    piercing_pattern = 'CDLPIERCING'\n",
    "    rickshaw_man = 'CDLRICKSHAWMAN'\n",
    "    rise_fall_three_methods = 'CDLRISEFALL3METHODS'\n",
    "    separating_lines = 'CDLSEPARATINGLINES'\n",
    "    shooting_star = 'CDLSHOOTINGSTAR'\n",
    "    short_line_candle = 'CDLSHORTLINE'\n",
    "    spinning_top = 'CDLSPINNINGTOP'\n",
    "    stalled_pattern = 'CDLSTALLEDPATTERN'\n",
    "    stick_sandwich = 'CDLSTICKSANDWICH'\n",
    "    takuri = 'CDLTAKURI'\n",
    "    tasuki_gap = 'CDLTASUKIGAP'\n",
    "    thrusting_pattern = 'CDLTHRUSTING'\n",
    "    tristar_pattern = 'CDLTRISTAR'\n",
    "    unique_3_river = 'CDLUNIQUE3RIVER'\n",
    "    upside_gap_two_crows = 'CDLUPSIDEGAP2CROWS'\n",
    "    gap_three_methods = 'CDLXSIDEGAP3METHODS'\n",
    "    \n",
    "    def __str__(self):\n",
    "        return self.value"
   ]
  },
  {
   "cell_type": "markdown",
   "metadata": {},
   "source": [
    "##### Defining classes for operation type"
   ]
  },
  {
   "cell_type": "code",
   "execution_count": 15,
   "metadata": {},
   "outputs": [],
   "source": [
    "## Defining class for operations\n",
    "class Operations(Enum):\n",
    "    EQUAL = \"=\"\n",
    "    GREATER_THAN_EQUAL = \">=\"\n",
    "    LESS_THAN_EQUAL = \"<=\"\n",
    "    GREATER_THAN = \">\"\n",
    "    LESS_THAN = \"<\"\n",
    "    CROSSOVER = \"CROSSOVER\"\n",
    "    CROSSUNDER = \"CROSSUNDER\"\n",
    "    RANGE_EQUAL = \"<=  <=\"\n",
    "    \n",
    "    # Following are used with patterns only\n",
    "    BULL_RANGE = [1, 100]\n",
    "    BEAR_RANGE = [-1, -100]\n",
    "\n",
    "    def __str__(self):\n",
    "        return self.value\n",
    "\n",
    "## Defining class for logical operators\n",
    "class Logical(Enum):\n",
    "    AND = \"&\"\n",
    "    OR = \"|\"\n",
    "    \n",
    "    def __str__(self):\n",
    "        return self.value"
   ]
  },
  {
   "cell_type": "markdown",
   "metadata": {},
   "source": [
    "##### Defining class for keys to be used for data_parser module"
   ]
  },
  {
   "cell_type": "code",
   "execution_count": 40,
   "metadata": {},
   "outputs": [],
   "source": [
    "class Keys:\n",
    "    daily = 'daily'\n",
    "    weekly = 'weekly'\n",
    "    monthly = 'monthly'\n",
    "    yearly = 'yearly'\n",
    "    interval = 'interval'\n",
    "    scrip = 'scrip'\n",
    "    symbol = 'symbol'\n",
    "    size = 'size'\n",
    "    start_date = 'start_date'\n",
    "    end_date = 'end_date'\n",
    "    chart = 'chart'\n",
    "    bt_chart = 'bt_chart'\n",
    "    date = 'date'\n",
    "    open = 'open'\n",
    "    high = 'high'\n",
    "    low = 'low'\n",
    "    close = 'close'\n",
    "    volume = 'volume'\n",
    "    turnover = 'turnover'\n",
    "\n",
    "    data_prop = 'data_properties'\n",
    "    data = 'data'\n",
    "    params = 'params'\n",
    "\n",
    "    rsi = \"RSI\"\n",
    "    stoch = \"STOCH\"\n",
    "    fastk = \"fastk\"\n",
    "    fastd = \"fastd\"\n",
    "    sma = \"SMA\"\n",
    "    ema = \"EMA\"\n",
    "    macd = \"MACD\"\n",
    "    macd_value = \"macd_value\"\n",
    "    macdsignal = \"macdsignal\"\n",
    "    macdhist = \"macdhist\"\n",
    "    bbands = \"BBANDS\"\n",
    "    upperband = \"upperband\"\n",
    "    middleband = \"middleband\"\n",
    "    lowerband = \"lowerband\"\n",
    "    pivot = \"PIVOT\"\n",
    "    pp = \"pp\"\n",
    "    r1 = \"r1\"\n",
    "    r2 = \"r2\"\n",
    "    r3 = \"r3\"\n",
    "    s1 = \"s1\"\n",
    "    s2 = \"s2\"\n",
    "    s3 = \"s3\"\n",
    "    data_min = \"data_min\"\n",
    "    data_max = \"data_max\"\n",
    "    pivot_min = \"pivot_min\"\n",
    "    pivot_max = \"pivot_max\"\n",
    "\n",
    "    signal = 'Signal'\n",
    "    quantity = 'QTY'\n",
    "    price = 'Price'\n",
    "    pl = 'P_L'\n",
    "    cum_pl = 'CUM_P_L'\n",
    "    date_cum_pl = 'DATE_CUM_PL'\n",
    "    patterns = \"patterns\"\n",
    "    all = 'all'\n",
    "    long = 'long'\n",
    "    short = 'short'\n",
    "    annotations = 'annotations'\n",
    "    buy_regular = \"BR\"\n",
    "    buy_book_profit = \"BP\"\n",
    "    buy_book_sl = \"BSL\"\n",
    "    sell_regular = \"SR\"\n",
    "    sell_book_profit = \"SP\"\n",
    "    sell_book_sl = \"SSL\""
   ]
  },
  {
   "cell_type": "code",
   "execution_count": null,
   "metadata": {},
   "outputs": [],
   "source": []
  },
  {
   "cell_type": "markdown",
   "metadata": {},
   "source": [
    "### Data Parser Module"
   ]
  },
  {
   "cell_type": "code",
   "execution_count": 2,
   "metadata": {},
   "outputs": [],
   "source": [
    "## Importing required libraries\n",
    "import calendar\n",
    "import logging\n",
    "from datetime import date, timedelta\n",
    "from dateutil.relativedelta import relativedelta\n",
    "import nsepy"
   ]
  },
  {
   "cell_type": "code",
   "execution_count": 44,
   "metadata": {
    "scrolled": true
   },
   "outputs": [],
   "source": [
    "## Defining function to ull data using Quandl api\n",
    "def get_data(scrip: str = \"\", start_date: str = \"\", end_date: str = \"\", interval: str = \"\", index: bool = True):\n",
    "    data = []\n",
    "        \n",
    "    ## Defining start data and end date \n",
    "    date_fmt = '%Y-%m-%d'\n",
    "    start = datetime.strptime(start_date, date_fmt).date()\n",
    "    end = datetime.strptime(end_date, date_fmt).date() if end_date else datetime.now().date()\n",
    "    \n",
    "    ## Get scrip detils using nsepy\n",
    "    response = nsepy.get_history(scrip )"
   ]
  },
  {
   "cell_type": "code",
   "execution_count": null,
   "metadata": {},
   "outputs": [],
   "source": [
    "temp_response = nsepy.get_history('SBIN', start = date(2019,1,1), end = date(2019,12,31))\n",
    "temp_response.head()"
   ]
  }
 ],
 "metadata": {
  "kernelspec": {
   "display_name": "Python 3",
   "language": "python",
   "name": "python3"
  },
  "language_info": {
   "codemirror_mode": {
    "name": "ipython",
    "version": 3
   },
   "file_extension": ".py",
   "mimetype": "text/x-python",
   "name": "python",
   "nbconvert_exporter": "python",
   "pygments_lexer": "ipython3",
   "version": "3.7.1"
  }
 },
 "nbformat": 4,
 "nbformat_minor": 2
}
